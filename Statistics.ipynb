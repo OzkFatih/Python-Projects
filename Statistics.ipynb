{
 "cells": [
  {
   "cell_type": "code",
   "execution_count": 67,
   "metadata": {},
   "outputs": [
    {
     "name": "stdout",
     "output_type": "stream",
     "text": [
      "2\n"
     ]
    }
   ],
   "source": [
    "from random import choice as ch\n",
    "def weighted_srs(data,n,weights,with_replacement=True):\n",
    "    if with_replacement == True or weights != None:\n",
    "        random_list = ch(data)\n",
    "    else:\n",
    "        random_list = ch(data)\n",
    "    return random_list\n",
    "data = [1,2,3,4,5,6,7,8,9,10]\n",
    "n = 5\n",
    "weights = [2,3,4,6,8,9,10,12,14,16]\n",
    "print(weighted_srs(data,n,weights,with_replacement=False))"
   ]
  },
  {
   "cell_type": "code",
   "execution_count": 79,
   "metadata": {},
   "outputs": [
    {
     "name": "stdout",
     "output_type": "stream",
     "text": [
      "1\n",
      "3.0\n",
      "3\n",
      "2.0\n",
      "1.4142135623730951\n",
      "-2.0\n"
     ]
    }
   ],
   "source": [
    "def Mode(data):\n",
    "    mode = max(set(data), key = data.count)\n",
    "    return mode\n",
    "def Mean(data):\n",
    "    mean = sum(data)/len(data)\n",
    "    return mean\n",
    "def Median(data):\n",
    "    data.sort()\n",
    "    if len(data) % 2 == 0:\n",
    "        median = (data[len(data)//2] + data[len(data)//2-1])/2\n",
    "    else:\n",
    "        median = data[len(data)//2]\n",
    "    return median\n",
    "def Variance(data):\n",
    "    mean = Mean(data)\n",
    "    variance = sum((x - mean) ** 2 for x in data) / len(data)\n",
    "    return variance\n",
    "def Standard_Deviation(data):\n",
    "    variance = Variance(data)\n",
    "    standard_deviation = variance ** 0.5\n",
    "    return standard_deviation\n",
    "def Covariance(data1,data2):\n",
    "    mean1 = Mean(data1)\n",
    "    mean2 = Mean(data2)\n",
    "    covariance = sum((data1[i] - mean1) * (data2[i] - mean2) for i in range(len(data1))) / len(data1)\n",
    "    return covariance\n",
    "\n",
    "data1 = [1,2,3,4,5]\n",
    "data2 = [5,4,3,2,1]\n",
    "print(Mode(data1))\n",
    "print(Mean(data1))\n",
    "print(Median(data1))\n",
    "print(Variance(data1))\n",
    "print(Standard_Deviation(data1))\n",
    "print(Covariance(data1,data2))"
   ]
  },
  {
   "cell_type": "code",
   "execution_count": 39,
   "metadata": {},
   "outputs": [
    {
     "name": "stdout",
     "output_type": "stream",
     "text": [
      "[-2.0, -1.0, 0.0, 1.0, 2.0]\n",
      "[-2, -1, 0, 1, 2]\n"
     ]
    }
   ],
   "source": [
    "def shifted_mean(data):\n",
    "    mean = Mean(data)\n",
    "    shifted_mean = [x - mean for x in data]\n",
    "    return shifted_mean\n",
    "def shifted_median(data):\n",
    "    median = Median(data)\n",
    "    shifted_median = [x - median for x in data]\n",
    "    return shifted_median\n",
    "\n",
    "print(shifted_mean(data1))  # [-2.0, -1.0, 0.0, 1.0, 2.0]\n",
    "print(shifted_median(data1))  # [-2, -1, 0, 1, 2]"
   ]
  },
  {
   "cell_type": "code",
   "execution_count": 57,
   "metadata": {},
   "outputs": [
    {
     "name": "stdout",
     "output_type": "stream",
     "text": [
      "[2, 6, 7, 9]\n",
      "[1, 4, 8]\n",
      "[1, 4, 8]\n",
      "[1, 3, 5, 7, 9]\n"
     ]
    }
   ],
   "source": [
    "import random\n",
    "def Stratified_sampling(data, strata, n):\n",
    "    stratified_sample = []\n",
    "    for i in range(len(strata)):\n",
    "        stratified_sample += random.sample(data[strata[i][0]:strata[i][1]],n//len(strata))\n",
    "    return stratified_sample\n",
    "\n",
    "def Cluster_sampling(data, clusters, n):\n",
    "    cluster_sample = []\n",
    "    for i in range(len(clusters)):\n",
    "        cluster_sample += data[clusters[i][0]:clusters[i][1]]\n",
    "    return cluster_sample\n",
    "\n",
    "def Systematic_sampling(data, n):\n",
    "    systematic_sample = []\n",
    "    for i in range(0,len(data),len(data)//n):\n",
    "        systematic_sample.append(data[i])\n",
    "    return systematic_sample\n",
    "\n",
    "def Random_sampling(data, n):\n",
    "    return random.sample(data,n)\n",
    "\n",
    "data = [1,2,3,4,5,6,7,8,9,10]\n",
    "strata = [(0,3),(3,7),(7,10)]\n",
    "clusters = [[0,1,2],[3,4,5,6],[7,8,9]]\n",
    "print(Random_sampling(data,4))\n",
    "print(Cluster_sampling(data,clusters,4))\n",
    "print(Stratified_sampling(data,strata,4))\n",
    "print(Systematic_sampling(data,4))"
   ]
  },
  {
   "cell_type": "code",
   "execution_count": 26,
   "metadata": {},
   "outputs": [
    {
     "name": "stdout",
     "output_type": "stream",
     "text": [
      "(-4.5, 3, 5.5, 8, 15.5)\n"
     ]
    }
   ],
   "source": [
    "data = [1,2,3,4,5,6,7,8,9,10]\n",
    "def boxplot(data):\n",
    "    data.sort()\n",
    "    q1 = data[len(data)//4] # 25th percentile\n",
    "    q2 = (data[len(data)//2] + data[len(data)//2-1])/2 if len(data) % 2 == 0 else data[len(data)//2] # 50th percentile\n",
    "    q3 = data[len(data)//4*3+1] # 75th percentile\n",
    "    iqr = q3 - q1\n",
    "    lower_bound = q1 - 1.5 * iqr\n",
    "    upper_bound = q3 + 1.5 * iqr\n",
    "    return (lower_bound,q1,q2,q3,upper_bound)\n",
    "\n",
    "print(boxplot(data))"
   ]
  }
 ],
 "metadata": {
  "kernelspec": {
   "display_name": "fatih",
   "language": "python",
   "name": "python3"
  },
  "language_info": {
   "codemirror_mode": {
    "name": "ipython",
    "version": 3
   },
   "file_extension": ".py",
   "mimetype": "text/x-python",
   "name": "python",
   "nbconvert_exporter": "python",
   "pygments_lexer": "ipython3",
   "version": "3.9.15"
  }
 },
 "nbformat": 4,
 "nbformat_minor": 2
}
